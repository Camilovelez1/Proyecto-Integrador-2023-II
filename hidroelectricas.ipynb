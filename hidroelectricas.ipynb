{
 "cells": [
  {
   "cell_type": "code",
   "execution_count": null,
   "metadata": {},
   "outputs": [],
   "source": [
    "import PyPDF2\n",
    "import csv"
   ]
  },
  {
   "cell_type": "code",
   "execution_count": null,
   "metadata": {},
   "outputs": [],
   "source": [
    "with open('PalaciosSierraRicardoAndres2013.pdf', 'rb') as pdf_file:\n",
    "    # Crea un objeto PDFReader\n",
    "    pdf_reader = PyPDF2.PdfFileReader(pdf_file)\n",
    "\n",
    "    # Inicializa variables para almacenar la información\n",
    "    info = {\n",
    "        \"Nombre\": \"\",\n",
    "        \"Localización\": \"\",\n",
    "        \"Localización geográfica\": \"\",\n",
    "        \"Altura de presa\": \"\",\n",
    "        \"Área inundada\": \"\",\n",
    "        \"Volumen total de embalse\": \"\",\n",
    "        \"Volumen útil de embalse\": \"\",\n",
    "        \"Cota\": \"\",\n",
    "        \"Longitud de coronación\": \"\",\n",
    "        \"Altura promedio lámina de agua\": \"\",\n",
    "        \"Caudal afluente\": \"\",\n",
    "        \"Capacidad total instalada\": \"\",\n",
    "        \"Generación anual de energía\": \"\"\n",
    "    }\n",
    "\n",
    "    # Recorre las páginas del PDF\n",
    "    for page_num in range(pdf_reader.numPages):\n",
    "        page = pdf_reader.getPage(page_num)\n",
    "        page_text = page.extractText()\n",
    "\n",
    "        # Busca la información en el texto\n",
    "        for key in info.keys():\n",
    "            if key in page_text:\n",
    "                # Divide la línea en palabras y toma el último elemento\n",
    "                words = page_text.split()\n",
    "                value = words[-1]\n",
    "                info[key] = value\n",
    "\n",
    "# Imprime la información tabulada\n",
    "for key, value in info.items():\n",
    "    print(f\"{key}: {value}\")\n"
   ]
  }
 ],
 "metadata": {
  "kernelspec": {
   "display_name": "Proyecto-Integrador-2023-II-h7ip1t6i",
   "language": "python",
   "name": "python3"
  },
  "language_info": {
   "name": "python",
   "version": "3.11.5"
  }
 },
 "nbformat": 4,
 "nbformat_minor": 2
}
